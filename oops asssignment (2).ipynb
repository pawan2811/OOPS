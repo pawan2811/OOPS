{
 "cells": [
  {
   "cell_type": "code",
   "execution_count": 1,
   "id": "9aa45972-fd05-4e46-b94a-237dec6c2516",
   "metadata": {},
   "outputs": [],
   "source": [
    "#1. What are the five key concepts of Object-Oriented Programming (OOP)?"
   ]
  },
  {
   "cell_type": "raw",
   "id": "94079049-8331-4d7b-a79a-1f0d4bc40788",
   "metadata": {},
   "source": [
    "class and object , encapsulation, inheritance, polymorphism, abstraction"
   ]
  },
  {
   "cell_type": "code",
   "execution_count": 5,
   "id": "d4574e0c-54cc-4cc9-856e-313f7311ac2a",
   "metadata": {},
   "outputs": [],
   "source": [
    "#2. Write a Python class for a `Car` with attributes for `make`, `model`, and `year`. Include a method to display the car's information."
   ]
  },
  {
   "cell_type": "code",
   "execution_count": 1,
   "id": "684b0269-8b34-4994-899d-2e0b470acd64",
   "metadata": {},
   "outputs": [],
   "source": [
    "class Car:\n",
    "    make = \"hybrid\"\n",
    "\n",
    "    def __init__(self,model,year):\n",
    "        self.model = model\n",
    "        self.year = year\n",
    "\n",
    "    def show(self):\n",
    "        print(f\"car is {self.make} an model of {self.model} and year of manufacture is {self.year}\")"
   ]
  },
  {
   "cell_type": "code",
   "execution_count": 13,
   "id": "26804c06-4f2e-4f5e-8bc5-016fe9059215",
   "metadata": {},
   "outputs": [
    {
     "name": "stdout",
     "output_type": "stream",
     "text": [
      "car is hybrid an model of 190 and year of manufacture is 2024\n"
     ]
    }
   ],
   "source": [
    "car = Car(190,2024)\n",
    "car.show()"
   ]
  },
  {
   "cell_type": "code",
   "execution_count": 16,
   "id": "d6a9124f-e8e8-4da1-8773-02b06d634047",
   "metadata": {},
   "outputs": [],
   "source": [
    "#3. Explain the difference between instance methods and class methods. Provide an example of each."
   ]
  },
  {
   "cell_type": "code",
   "execution_count": 18,
   "id": "39807645-bbe3-4187-ad66-7007a9c3119e",
   "metadata": {},
   "outputs": [],
   "source": [
    "#instance method"
   ]
  },
  {
   "cell_type": "raw",
   "id": "a2e61982-e9e5-4e00-8dbf-05f086cdd24d",
   "metadata": {},
   "source": [
    " Instance methods are methods that operate on an instance of a class. They can access and modify the instance's attributes and typically rely on the specific data contained in the instance."
   ]
  },
  {
   "cell_type": "code",
   "execution_count": 22,
   "id": "9b6e1474-7fb4-45b4-9be4-17b10adb08ba",
   "metadata": {},
   "outputs": [],
   "source": [
    "class Vehicle:\n",
    "    def __init__(self,name):\n",
    "        self.name = name\n",
    "\n",
    "    def show(self):\n",
    "        return f\"The vechicle is {self.name}\""
   ]
  },
  {
   "cell_type": "code",
   "execution_count": 24,
   "id": "fe918fe8-abb3-43cd-97e3-5ccb9e573e81",
   "metadata": {},
   "outputs": [],
   "source": [
    "bus = Vehicle(\"BUS\")"
   ]
  },
  {
   "cell_type": "code",
   "execution_count": 26,
   "id": "9607ea6b-508d-46b0-aa8e-b29d2b58edab",
   "metadata": {},
   "outputs": [
    {
     "data": {
      "text/plain": [
       "'The vechicle is BUS'"
      ]
     },
     "execution_count": 26,
     "metadata": {},
     "output_type": "execute_result"
    }
   ],
   "source": [
    "bus.show()"
   ]
  },
  {
   "cell_type": "code",
   "execution_count": 28,
   "id": "9ad7e87a-7568-4a58-b1b0-5d2c24079060",
   "metadata": {},
   "outputs": [],
   "source": [
    "#classmethod"
   ]
  },
  {
   "cell_type": "raw",
   "id": "0fc2928d-8f21-4cfc-a256-6407cd3afb3c",
   "metadata": {},
   "source": [
    "Class methods are methods that are bound to the class and not the instance of the class. They can access or modify class state that applies across all instances of the class. Class methods are defined using the @classmethod decorator."
   ]
  },
  {
   "cell_type": "code",
   "execution_count": 2,
   "id": "03e8a3bb-6cf8-4f75-95a8-9a958bc5abf4",
   "metadata": {},
   "outputs": [],
   "source": [
    "class Student:\n",
    "    total_student = 0\n",
    "    def __init__(self,name):\n",
    "        self.name = name\n",
    "        Student.total_student += 1\n",
    "    @classmethod\n",
    "    def show(cls):\n",
    "        print(\"total_Student\",cls.total_student)\n",
    "    \n"
   ]
  },
  {
   "cell_type": "code",
   "execution_count": 3,
   "id": "f0ca584f-343e-43b5-8bd5-036154e98443",
   "metadata": {},
   "outputs": [],
   "source": [
    "s1 = Student(\"suresh\")\n",
    "s2 = Student(\"pak\")"
   ]
  },
  {
   "cell_type": "code",
   "execution_count": 4,
   "id": "65b037cd-efd5-4863-b7f9-536c525445ca",
   "metadata": {},
   "outputs": [
    {
     "name": "stdout",
     "output_type": "stream",
     "text": [
      "total_Student 2\n"
     ]
    }
   ],
   "source": [
    "Student.show()"
   ]
  },
  {
   "cell_type": "code",
   "execution_count": 43,
   "id": "5de4933e-405f-4f6e-9172-40f11e6ca4c2",
   "metadata": {},
   "outputs": [],
   "source": [
    "# 4. How does Python implement method overloading? Give an example."
   ]
  },
  {
   "cell_type": "raw",
   "id": "7d44372f-ce0c-4f7c-a496-29bbbce6a4fa",
   "metadata": {},
   "source": [
    "Method overloading is the practice of invoking the same method more than once with different parameters. Method overloading is not supported by Python. Even if you overload the method, Python only takes into account the most recent definition. If you overload a method in Python, a TypeError will be raised."
   ]
  },
  {
   "cell_type": "code",
   "execution_count": 49,
   "id": "004236ce-1e7f-45dd-97ad-1d5cd26046dd",
   "metadata": {},
   "outputs": [],
   "source": [
    "class Method_overload:\n",
    "\n",
    "    def method(self,a = \"\"):\n",
    "        print(\"The value is\",a)\n",
    "\n",
    "    def method(self,a = \"\",b = \"\"):\n",
    "        print(\"The value is\",a,b)"
   ]
  },
  {
   "cell_type": "code",
   "execution_count": 51,
   "id": "24821278-29de-4cba-a858-0292950b8d24",
   "metadata": {},
   "outputs": [
    {
     "name": "stdout",
     "output_type": "stream",
     "text": [
      "The value is 3 \n"
     ]
    }
   ],
   "source": [
    "m1 = Method_overload()\n",
    "m1.method(3)"
   ]
  },
  {
   "cell_type": "code",
   "execution_count": 55,
   "id": "987a0f41-d895-42de-8876-fdd461387b80",
   "metadata": {},
   "outputs": [
    {
     "name": "stdout",
     "output_type": "stream",
     "text": [
      "The value is 3 4\n"
     ]
    }
   ],
   "source": [
    "m1.method(3,4)"
   ]
  },
  {
   "cell_type": "code",
   "execution_count": 60,
   "id": "ebab4273-e717-449d-89dc-29ca04159d79",
   "metadata": {},
   "outputs": [],
   "source": [
    "#5. What are the three types of access modifiers in Python? How are they denoted?"
   ]
  },
  {
   "cell_type": "raw",
   "id": "93b9c933-5608-47d7-9fc2-6ba7284fd991",
   "metadata": {},
   "source": [
    "The three type of access modifiers are\n",
    "public >> no symbol for denotation\n",
    "private >> \"__\" is used\n",
    "protected >> \"_\" is used"
   ]
  },
  {
   "cell_type": "code",
   "execution_count": 62,
   "id": "26473c33-1a05-461b-8af0-4f7393541763",
   "metadata": {},
   "outputs": [],
   "source": [
    "# 6. Describe the five types of inheritance in Python. Provide a simple example of multiple inheritance."
   ]
  },
  {
   "cell_type": "raw",
   "id": "80646237-a392-4112-b16b-16db484d7bb3",
   "metadata": {},
   "source": [
    "1.single inheritance\n",
    "2.multiple inheritance\n",
    "3.multi-level inheritance\n",
    "4.hierarichal inheritance\n",
    "5.hybrid inheritance"
   ]
  },
  {
   "cell_type": "code",
   "execution_count": 64,
   "id": "219be2af-76a1-4460-8e30-22ae6957fe16",
   "metadata": {},
   "outputs": [],
   "source": [
    "#multiple inheritance\n",
    "class parent1:\n",
    "    def show1(self):\n",
    "        return \"iam parent one\"\n",
    "\n",
    "class parent2:\n",
    "    def show2(self):\n",
    "        return \"iam parent two\"\n",
    "\n",
    "class child(parent1,parent2):\n",
    "    def child_show(self):\n",
    "        return \"i have both parent1 and parent2 method\""
   ]
  },
  {
   "cell_type": "code",
   "execution_count": 66,
   "id": "61b99a03-3567-4634-a485-61a7b8eebb99",
   "metadata": {},
   "outputs": [
    {
     "data": {
      "text/plain": [
       "'iam parent one'"
      ]
     },
     "execution_count": 66,
     "metadata": {},
     "output_type": "execute_result"
    }
   ],
   "source": [
    "child1 = child()\n",
    "child1.show1()"
   ]
  },
  {
   "cell_type": "code",
   "execution_count": 70,
   "id": "85481326-63df-4f51-affd-0d88c60bc4c7",
   "metadata": {},
   "outputs": [
    {
     "data": {
      "text/plain": [
       "'iam parent two'"
      ]
     },
     "execution_count": 70,
     "metadata": {},
     "output_type": "execute_result"
    }
   ],
   "source": [
    "child1.show2()"
   ]
  },
  {
   "cell_type": "code",
   "execution_count": 72,
   "id": "0fc2f50f-fd86-4d9b-9b49-56f3d0b0dc12",
   "metadata": {},
   "outputs": [
    {
     "data": {
      "text/plain": [
       "'i have both parent1 and parent2 method'"
      ]
     },
     "execution_count": 72,
     "metadata": {},
     "output_type": "execute_result"
    }
   ],
   "source": [
    "child1.child_show()"
   ]
  },
  {
   "cell_type": "code",
   "execution_count": 74,
   "id": "47b22ba8-d3d6-4ea7-a9b5-ea0f928a8d08",
   "metadata": {},
   "outputs": [],
   "source": [
    "#7 What is the Method Resolution Order (MRO) in Python? How can you retrieve it programmatically?"
   ]
  },
  {
   "cell_type": "raw",
   "id": "17ce7340-8b29-46cd-9e78-ee20dc7e05f5",
   "metadata": {},
   "source": [
    "Method Resolution Order (MRO) is the order in which Python looks for a method or attribute in a hierarchy of classes. This concept is particularly important in the context of multiple inheritance, where a class can inherit from more than one parent class."
   ]
  },
  {
   "cell_type": "code",
   "execution_count": 76,
   "id": "220f9a4e-f10e-487b-a70b-939bb80f975a",
   "metadata": {},
   "outputs": [],
   "source": [
    "class A:\n",
    "    def shw(self):\n",
    "        return \"class A\"\n",
    "class B:\n",
    "    def shw(self):\n",
    "        return \"class B\"\n",
    "\n",
    "class C(A,B):\n",
    "    pass"
   ]
  },
  {
   "cell_type": "code",
   "execution_count": 78,
   "id": "b42d6323-0129-4654-a4ae-0e6c621bd54d",
   "metadata": {},
   "outputs": [
    {
     "data": {
      "text/plain": [
       "'class A'"
      ]
     },
     "execution_count": 78,
     "metadata": {},
     "output_type": "execute_result"
    }
   ],
   "source": [
    "d = C()\n",
    "d.shw()"
   ]
  },
  {
   "cell_type": "code",
   "execution_count": 93,
   "id": "6710db08-56b9-4c21-8e6a-858474d7b071",
   "metadata": {},
   "outputs": [],
   "source": [
    "#8. Create an abstract base class `Shape` with an abstract method `area()`. Then create two subclasses `Circle` and `Rectangle` that implement the `area()` method."
   ]
  },
  {
   "cell_type": "code",
   "execution_count": 85,
   "id": "32925013-ce9b-4f5f-a8a7-5b60aa4f59ec",
   "metadata": {},
   "outputs": [],
   "source": [
    "from abc import ABC,abstractmethod\n",
    "\n",
    "class Shape(ABC):\n",
    "\n",
    "    @abstractmethod\n",
    "    def area(self):\n",
    "        pass\n",
    "\n",
    "class Circle(Shape):\n",
    "    def __init__(self,radius):\n",
    "        self.radius = radius\n",
    "\n",
    "    def area(self):\n",
    "        return 3.14*self.radius\n",
    "\n",
    "class Rectangle(Shape):\n",
    "    def __init__(self,lenght,width):\n",
    "        self.length = lenght\n",
    "        self.width = width\n",
    "\n",
    "    def area(self):\n",
    "        return self.length * self.width\n",
    "        "
   ]
  },
  {
   "cell_type": "code",
   "execution_count": 91,
   "id": "7ff7ec7b-bfe7-4742-88f9-05aca7c7824d",
   "metadata": {},
   "outputs": [
    {
     "name": "stdout",
     "output_type": "stream",
     "text": [
      "The area of circle  31.400000000000002\n",
      "The area of Rectangle  782\n"
     ]
    }
   ],
   "source": [
    "c1 = Circle(10)\n",
    "r1 = Rectangle(23,34)\n",
    "\n",
    "print(f\"The area of circle  {c1.area()}\")\n",
    "print(f\"The area of Rectangle  {r1.area()}\")"
   ]
  },
  {
   "cell_type": "code",
   "execution_count": 98,
   "id": "397ddff3-c866-4c88-81ff-f4c73742988c",
   "metadata": {},
   "outputs": [],
   "source": [
    "# 9. Demonstrate polymorphism by creating a function that can work with different shape objects to calculate and print their areas."
   ]
  },
  {
   "cell_type": "code",
   "execution_count": 104,
   "id": "4b4c3a69-1aa6-455c-8a92-afc0373304ac",
   "metadata": {},
   "outputs": [],
   "source": [
    "from abc import ABC,abstractmethod\n",
    "\n",
    "class Shape(ABC):\n",
    "\n",
    "    @abstractmethod\n",
    "    def area(self):\n",
    "        pass\n",
    "\n",
    "class Circle(Shape):\n",
    "    def __init__(self,radius):\n",
    "        self.radius = radius\n",
    "\n",
    "    def area(self):\n",
    "        return 3.14*self.radius\n",
    "\n",
    "class Rectangle(Shape):\n",
    "    def __init__(self,lenght,width):\n",
    "        self.length = lenght\n",
    "        self.width = width\n",
    "\n",
    "    def area(self):\n",
    "        return self.length * self.width\n",
    "        \n",
    "        "
   ]
  },
  {
   "cell_type": "code",
   "execution_count": 108,
   "id": "3c185a67-84ab-47ab-ad15-f5a1a3686f8b",
   "metadata": {},
   "outputs": [
    {
     "name": "stdout",
     "output_type": "stream",
     "text": [
      "31.400000000000002\n",
      "782\n"
     ]
    }
   ],
   "source": [
    "c1 = Circle(10)\n",
    "r1 = Rectangle(23,34)\n",
    "\n",
    "print(c1.area())\n",
    "print(r1.area())"
   ]
  },
  {
   "cell_type": "code",
   "execution_count": 111,
   "id": "75766758-e3ca-46f4-bd14-f7a730fdec37",
   "metadata": {},
   "outputs": [],
   "source": [
    "# 10. Implement encapsulation in a `BankAccount` class with private attributes for `balance` and `account_number`. Include methods for deposit, withdrawal, and balance inquiry."
   ]
  },
  {
   "cell_type": "code",
   "execution_count": 143,
   "id": "b85894fc-b950-4e17-9a38-189f732de741",
   "metadata": {},
   "outputs": [],
   "source": [
    "class Bankaccount:\n",
    "    \n",
    "    def __init__(self,balance = 0,account_number = 12345678):\n",
    "        self.__balance = balance\n",
    "        self.__account_number = account_number\n",
    "\n",
    "    def deposit(self):\n",
    "        acnt = int(input(\"enter the acount number\"))\n",
    "        if(acnt == self.__account_number):\n",
    "            depo = int(input(\"enter the amount to deposit: \"))\n",
    "            self.__balance = self.__balance + depo\n",
    "        else:\n",
    "            print(\"enter correct account number\")      \n",
    "\n",
    "    def withdrawal(self):\n",
    "        wdwl = int(input(\"enter the amount to withdraw: \"))\n",
    "        self.__balance -= wdwl\n",
    "\n",
    "    def balance(self):\n",
    "        return self.__balance"
   ]
  },
  {
   "cell_type": "code",
   "execution_count": 145,
   "id": "047a3486-1960-4d08-93b1-f0ec138a27e8",
   "metadata": {},
   "outputs": [],
   "source": [
    "bank = Bankaccount()"
   ]
  },
  {
   "cell_type": "code",
   "execution_count": 147,
   "id": "a17374fb-ceff-4b30-afa6-6f03e72d100b",
   "metadata": {},
   "outputs": [
    {
     "data": {
      "text/plain": [
       "0"
      ]
     },
     "execution_count": 147,
     "metadata": {},
     "output_type": "execute_result"
    }
   ],
   "source": [
    "bank.balance()"
   ]
  },
  {
   "cell_type": "code",
   "execution_count": 149,
   "id": "c2a525d0-faae-40b4-a6d4-6d734026a46e",
   "metadata": {},
   "outputs": [
    {
     "name": "stdout",
     "output_type": "stream",
     "text": [
      "enter the acount number 12345678\n",
      "enter the amount to deposit:  1234\n"
     ]
    }
   ],
   "source": [
    "bank.deposit()"
   ]
  },
  {
   "cell_type": "code",
   "execution_count": 151,
   "id": "843411e7-c915-4d94-9607-644565141d5e",
   "metadata": {},
   "outputs": [
    {
     "data": {
      "text/plain": [
       "1234"
      ]
     },
     "execution_count": 151,
     "metadata": {},
     "output_type": "execute_result"
    }
   ],
   "source": [
    "bank.balance()"
   ]
  },
  {
   "cell_type": "code",
   "execution_count": 153,
   "id": "c8a56fe2-609b-43c0-8a6b-c36cc4e0da35",
   "metadata": {},
   "outputs": [
    {
     "name": "stdout",
     "output_type": "stream",
     "text": [
      "enter the amount to withdraw:  34\n"
     ]
    }
   ],
   "source": [
    "bank.withdrawal()"
   ]
  },
  {
   "cell_type": "code",
   "execution_count": 155,
   "id": "d5db8e5e-1ab0-4404-bc52-d50a2c80ab15",
   "metadata": {},
   "outputs": [
    {
     "data": {
      "text/plain": [
       "1200"
      ]
     },
     "execution_count": 155,
     "metadata": {},
     "output_type": "execute_result"
    }
   ],
   "source": [
    "bank.balance()"
   ]
  },
  {
   "cell_type": "code",
   "execution_count": 157,
   "id": "fda00a50-9a4d-4453-a8cd-2233ffab9a4c",
   "metadata": {},
   "outputs": [
    {
     "name": "stdout",
     "output_type": "stream",
     "text": [
      "enter the acount number 234\n"
     ]
    },
    {
     "name": "stdout",
     "output_type": "stream",
     "text": [
      "enter correct account number\n"
     ]
    }
   ],
   "source": [
    "bank.deposit()"
   ]
  },
  {
   "cell_type": "code",
   "execution_count": 159,
   "id": "71ea8714-fb5f-4958-a527-1e58cc83ea6e",
   "metadata": {},
   "outputs": [],
   "source": [
    "# 11. Write a class that overrides the `__str__` and `__add__` magic methods. What will these methods allowyou to do?"
   ]
  },
  {
   "cell_type": "code",
   "execution_count": 169,
   "id": "70dc3733-d995-494c-8e5c-d644a6b38f93",
   "metadata": {},
   "outputs": [
    {
     "data": {
      "text/plain": [
       "95"
      ]
     },
     "execution_count": 169,
     "metadata": {},
     "output_type": "execute_result"
    }
   ],
   "source": [
    "#__add__\n",
    "a =50\n",
    "a.__add__(45)\n"
   ]
  },
  {
   "cell_type": "code",
   "execution_count": 171,
   "id": "6a913082-5723-4e82-9e08-23e7c3b365f9",
   "metadata": {},
   "outputs": [
    {
     "data": {
      "text/plain": [
       "str"
      ]
     },
     "execution_count": 171,
     "metadata": {},
     "output_type": "execute_result"
    }
   ],
   "source": [
    "#__str__\n",
    "b = a.__str__()\n",
    "type(b)"
   ]
  },
  {
   "cell_type": "code",
   "execution_count": null,
   "id": "7100be32-6058-4f9e-9c12-0be5f1ea9e9b",
   "metadata": {},
   "outputs": [],
   "source": [
    "# 12. Create a decorator that measures and prints the execution time of a function."
   ]
  },
  {
   "cell_type": "code",
   "execution_count": 202,
   "id": "d1a566a8-e864-4bec-985a-24a456193026",
   "metadata": {},
   "outputs": [],
   "source": [
    "import time"
   ]
  },
  {
   "cell_type": "code",
   "execution_count": 204,
   "id": "1558889e-2eb4-46ac-b7c5-9c077ea6d407",
   "metadata": {},
   "outputs": [
    {
     "name": "stdout",
     "output_type": "stream",
     "text": [
      "the required is  0.0\n"
     ]
    }
   ],
   "source": [
    "class Deco:\n",
    "    start = time.perf_counter()\n",
    "    def __init__(self,func):\n",
    "        self.func = func\n",
    "\n",
    "    def __call__(self):\n",
    "        print(\"started\")\n",
    "        self.func()\n",
    "        print(\"stoped\")\n",
    "    stop = time.perf_counter()\n",
    "    print(\"the required is \",round(stop - start,2))\n",
    "\n",
    "\n",
    "@Deco\n",
    "def hello():\n",
    "     print(\"hello example of deco\")    "
   ]
  },
  {
   "cell_type": "code",
   "execution_count": 206,
   "id": "2b6875ea-9e88-4c7e-b69b-21e581e7923a",
   "metadata": {},
   "outputs": [
    {
     "name": "stdout",
     "output_type": "stream",
     "text": [
      "started\n",
      "hello example of deco\n",
      "stoped\n"
     ]
    }
   ],
   "source": [
    "hello()"
   ]
  },
  {
   "cell_type": "code",
   "execution_count": 208,
   "id": "1a0b3a1c-9e35-4120-bfbb-5470eef63bad",
   "metadata": {},
   "outputs": [],
   "source": [
    "# 13. Explain the concept of the Diamond Problem in multiple inheritance. How does Python resolve it?"
   ]
  },
  {
   "cell_type": "code",
   "execution_count": 210,
   "id": "0ad59688-c16e-4e00-9300-ac653c093a64",
   "metadata": {},
   "outputs": [],
   "source": [
    "class A:\n",
    "    def greet(self):\n",
    "        print(\"hello from A\")\n",
    "\n",
    "class B(A):\n",
    "    def greet(self):\n",
    "        print(\"hello from B\")\n",
    "\n",
    "class C(A):\n",
    "    def greet(self):\n",
    "        print(\"hello from c\")\n",
    "class D(B,C):\n",
    "    pass"
   ]
  },
  {
   "cell_type": "code",
   "execution_count": 212,
   "id": "747c4057-6deb-4c4c-a8f5-467d54d3196e",
   "metadata": {},
   "outputs": [
    {
     "name": "stdout",
     "output_type": "stream",
     "text": [
      "hello from B\n"
     ]
    }
   ],
   "source": [
    "d = D()\n",
    "d.greet()"
   ]
  },
  {
   "cell_type": "raw",
   "id": "8f372e1a-bf3f-43ba-bc39-8ef29759fd5e",
   "metadata": {},
   "source": [
    "In the above example, D's MRO would be:\n",
    "D -> B -> C -> A\n",
    "This means that Python will first look in class B, then in class C, and finally in class A for the greet() method."
   ]
  },
  {
   "cell_type": "code",
   "execution_count": 216,
   "id": "bb021a8b-b145-4923-b35c-d0b3d1e40d63",
   "metadata": {},
   "outputs": [],
   "source": [
    "# 14 Write a class method that keeps track of the number of instances created from a class."
   ]
  },
  {
   "cell_type": "code",
   "execution_count": 284,
   "id": "bb90095c-bba8-4ced-b3d1-2380f728688b",
   "metadata": {},
   "outputs": [],
   "source": [
    "class Student:\n",
    "    total = 0\n",
    "\n",
    "    def __init__(self,name):\n",
    "        self.name = name\n",
    "        Student.total +=1\n",
    "\n",
    "    def S_name(self):\n",
    "        return self.name\n",
    "\n",
    "    @classmethod\n",
    "    def total_instance(cls):\n",
    "        return cls.total"
   ]
  },
  {
   "cell_type": "code",
   "execution_count": 286,
   "id": "a73d24fe-5874-4b54-8222-4865696346af",
   "metadata": {},
   "outputs": [
    {
     "data": {
      "text/plain": [
       "'Athul'"
      ]
     },
     "execution_count": 286,
     "metadata": {},
     "output_type": "execute_result"
    }
   ],
   "source": [
    "s1 = Student(\"Athul\")\n",
    "s1.S_name()\n"
   ]
  },
  {
   "cell_type": "code",
   "execution_count": 290,
   "id": "c63fa710-f7be-498b-ba79-e19d5b287c0c",
   "metadata": {},
   "outputs": [
    {
     "data": {
      "text/plain": [
       "2"
      ]
     },
     "execution_count": 290,
     "metadata": {},
     "output_type": "execute_result"
    }
   ],
   "source": [
    "s2 = Student(\"aj\")\n",
    "Student.total_instance()"
   ]
  },
  {
   "cell_type": "code",
   "execution_count": 292,
   "id": "8bd6adb7-1ab3-4c97-aca8-d935147ffb36",
   "metadata": {},
   "outputs": [],
   "source": [
    " # 15. Implement a static method in a class that checks if a given year is a leap year."
   ]
  },
  {
   "cell_type": "code",
   "execution_count": 342,
   "id": "8a51b153-6371-48b5-a22e-e94ecf8d61bc",
   "metadata": {},
   "outputs": [],
   "source": [
    "class Leap:\n",
    "    @staticmethod\n",
    "    def year(x):\n",
    "        if (x%400 == 0 or x%4 == 0):\n",
    "            print(\"leap year\")     \n",
    "        else:\n",
    "            print(\"not leap year\")\n",
    "            "
   ]
  },
  {
   "cell_type": "code",
   "execution_count": 344,
   "id": "729af477-989b-45b8-b577-15150bc12a73",
   "metadata": {},
   "outputs": [],
   "source": [
    "y1 = Leap()"
   ]
  },
  {
   "cell_type": "code",
   "execution_count": 348,
   "id": "be1889d4-09de-4549-95c0-70ed8272787e",
   "metadata": {},
   "outputs": [
    {
     "name": "stdout",
     "output_type": "stream",
     "text": [
      "leap year\n"
     ]
    }
   ],
   "source": [
    "y1.year(2004)"
   ]
  },
  {
   "cell_type": "code",
   "execution_count": null,
   "id": "ef5cb59b-947c-4d5f-b2c5-2a3019f52e6d",
   "metadata": {},
   "outputs": [],
   "source": []
  },
  {
   "cell_type": "code",
   "execution_count": null,
   "id": "a244cf03-0842-4ee0-a59d-b55200ec353f",
   "metadata": {},
   "outputs": [],
   "source": []
  }
 ],
 "metadata": {
  "kernelspec": {
   "display_name": "Python 3 (ipykernel)",
   "language": "python",
   "name": "python3"
  },
  "language_info": {
   "codemirror_mode": {
    "name": "ipython",
    "version": 3
   },
   "file_extension": ".py",
   "mimetype": "text/x-python",
   "name": "python",
   "nbconvert_exporter": "python",
   "pygments_lexer": "ipython3",
   "version": "3.11.2"
  }
 },
 "nbformat": 4,
 "nbformat_minor": 5
}
